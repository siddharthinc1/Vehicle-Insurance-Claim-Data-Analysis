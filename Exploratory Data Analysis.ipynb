{
 "cells": [
  {
   "cell_type": "markdown",
   "id": "34237048",
   "metadata": {},
   "source": [
    "# EDA(Exploratory Data Analysis)"
   ]
  },
  {
   "cell_type": "raw",
   "id": "9f15d4d2",
   "metadata": {},
   "source": [
    "Exploratory Data Analysis (EDA) is a crucial step in the data analysis process where we explore and understand overall \n",
    "distribution of the dataset. \n",
    "This involves generating summary statistics to identify patterns, distributions, relationships, potential outliers, and form hypotheses for further analysis. And also involves visualizations."
   ]
  },
  {
   "cell_type": "code",
   "execution_count": 52,
   "id": "c2937400",
   "metadata": {},
   "outputs": [],
   "source": [
    "import pandas as pd\n",
    "import numpy as np\n",
    "import matplotlib.pyplot as plt"
   ]
  },
  {
   "cell_type": "code",
   "execution_count": 22,
   "id": "b42a4411",
   "metadata": {},
   "outputs": [
    {
     "data": {
      "text/html": [
       "<div>\n",
       "<style scoped>\n",
       "    .dataframe tbody tr th:only-of-type {\n",
       "        vertical-align: middle;\n",
       "    }\n",
       "\n",
       "    .dataframe tbody tr th {\n",
       "        vertical-align: top;\n",
       "    }\n",
       "\n",
       "    .dataframe thead th {\n",
       "        text-align: right;\n",
       "    }\n",
       "</style>\n",
       "<table border=\"1\" class=\"dataframe\">\n",
       "  <thead>\n",
       "    <tr style=\"text-align: right;\">\n",
       "      <th></th>\n",
       "      <th>Age</th>\n",
       "      <th>Policy_number</th>\n",
       "      <th>Policy_bind_date</th>\n",
       "      <th>Policy_state</th>\n",
       "      <th>Policy_annual_premium</th>\n",
       "      <th>Insured_zip</th>\n",
       "      <th>Insured_gender</th>\n",
       "      <th>Insured_occupation</th>\n",
       "      <th>Insured_relationship</th>\n",
       "      <th>Incident_date</th>\n",
       "      <th>...</th>\n",
       "      <th>Incident_city</th>\n",
       "      <th>Incident_location</th>\n",
       "      <th>Number_of_vehicles_involved</th>\n",
       "      <th>Witnesses</th>\n",
       "      <th>Total_claim_amount</th>\n",
       "      <th>Injury_claim</th>\n",
       "      <th>Property_claim</th>\n",
       "      <th>Vehicle_claim</th>\n",
       "      <th>Auto_model</th>\n",
       "      <th>Auto_year</th>\n",
       "    </tr>\n",
       "  </thead>\n",
       "  <tbody>\n",
       "    <tr>\n",
       "      <th>0</th>\n",
       "      <td>48</td>\n",
       "      <td>521585</td>\n",
       "      <td>2014-10-17</td>\n",
       "      <td>OH</td>\n",
       "      <td>1406.91</td>\n",
       "      <td>466132</td>\n",
       "      <td>MALE</td>\n",
       "      <td>craft-repair</td>\n",
       "      <td>husband</td>\n",
       "      <td>2015-01-25</td>\n",
       "      <td>...</td>\n",
       "      <td>Columbus</td>\n",
       "      <td>9935 4th Drive</td>\n",
       "      <td>1</td>\n",
       "      <td>2</td>\n",
       "      <td>71610</td>\n",
       "      <td>6510</td>\n",
       "      <td>13020</td>\n",
       "      <td>52080</td>\n",
       "      <td>92x</td>\n",
       "      <td>2004</td>\n",
       "    </tr>\n",
       "    <tr>\n",
       "      <th>1</th>\n",
       "      <td>42</td>\n",
       "      <td>342868</td>\n",
       "      <td>2006-06-27</td>\n",
       "      <td>IN</td>\n",
       "      <td>1197.22</td>\n",
       "      <td>468176</td>\n",
       "      <td>MALE</td>\n",
       "      <td>machine-op-inspct</td>\n",
       "      <td>other-relative</td>\n",
       "      <td>2015-01-21</td>\n",
       "      <td>...</td>\n",
       "      <td>Riverwood</td>\n",
       "      <td>6608 MLK Hwy</td>\n",
       "      <td>1</td>\n",
       "      <td>0</td>\n",
       "      <td>5070</td>\n",
       "      <td>780</td>\n",
       "      <td>780</td>\n",
       "      <td>3510</td>\n",
       "      <td>E400</td>\n",
       "      <td>2007</td>\n",
       "    </tr>\n",
       "    <tr>\n",
       "      <th>2</th>\n",
       "      <td>29</td>\n",
       "      <td>687698</td>\n",
       "      <td>2000-09-06</td>\n",
       "      <td>OH</td>\n",
       "      <td>1413.14</td>\n",
       "      <td>430632</td>\n",
       "      <td>FEMALE</td>\n",
       "      <td>sales</td>\n",
       "      <td>own-child</td>\n",
       "      <td>2015-02-22</td>\n",
       "      <td>...</td>\n",
       "      <td>Columbus</td>\n",
       "      <td>7121 Francis Lane</td>\n",
       "      <td>3</td>\n",
       "      <td>3</td>\n",
       "      <td>34650</td>\n",
       "      <td>7700</td>\n",
       "      <td>3850</td>\n",
       "      <td>23100</td>\n",
       "      <td>RAM</td>\n",
       "      <td>2007</td>\n",
       "    </tr>\n",
       "    <tr>\n",
       "      <th>3</th>\n",
       "      <td>41</td>\n",
       "      <td>227811</td>\n",
       "      <td>1990-05-25</td>\n",
       "      <td>IL</td>\n",
       "      <td>1415.74</td>\n",
       "      <td>608117</td>\n",
       "      <td>FEMALE</td>\n",
       "      <td>armed-forces</td>\n",
       "      <td>unmarried</td>\n",
       "      <td>2015-01-10</td>\n",
       "      <td>...</td>\n",
       "      <td>Arlington</td>\n",
       "      <td>6956 Maple Drive</td>\n",
       "      <td>1</td>\n",
       "      <td>2</td>\n",
       "      <td>63400</td>\n",
       "      <td>6340</td>\n",
       "      <td>6340</td>\n",
       "      <td>50720</td>\n",
       "      <td>Tahoe</td>\n",
       "      <td>2014</td>\n",
       "    </tr>\n",
       "    <tr>\n",
       "      <th>4</th>\n",
       "      <td>44</td>\n",
       "      <td>367455</td>\n",
       "      <td>2014-06-06</td>\n",
       "      <td>IL</td>\n",
       "      <td>1583.91</td>\n",
       "      <td>610706</td>\n",
       "      <td>MALE</td>\n",
       "      <td>sales</td>\n",
       "      <td>unmarried</td>\n",
       "      <td>2015-02-17</td>\n",
       "      <td>...</td>\n",
       "      <td>Arlington</td>\n",
       "      <td>3041 3rd Ave</td>\n",
       "      <td>1</td>\n",
       "      <td>1</td>\n",
       "      <td>6500</td>\n",
       "      <td>1300</td>\n",
       "      <td>650</td>\n",
       "      <td>4550</td>\n",
       "      <td>RSX</td>\n",
       "      <td>2009</td>\n",
       "    </tr>\n",
       "    <tr>\n",
       "      <th>...</th>\n",
       "      <td>...</td>\n",
       "      <td>...</td>\n",
       "      <td>...</td>\n",
       "      <td>...</td>\n",
       "      <td>...</td>\n",
       "      <td>...</td>\n",
       "      <td>...</td>\n",
       "      <td>...</td>\n",
       "      <td>...</td>\n",
       "      <td>...</td>\n",
       "      <td>...</td>\n",
       "      <td>...</td>\n",
       "      <td>...</td>\n",
       "      <td>...</td>\n",
       "      <td>...</td>\n",
       "      <td>...</td>\n",
       "      <td>...</td>\n",
       "      <td>...</td>\n",
       "      <td>...</td>\n",
       "      <td>...</td>\n",
       "      <td>...</td>\n",
       "    </tr>\n",
       "    <tr>\n",
       "      <th>995</th>\n",
       "      <td>38</td>\n",
       "      <td>941851</td>\n",
       "      <td>1991-07-16</td>\n",
       "      <td>OH</td>\n",
       "      <td>1310.80</td>\n",
       "      <td>431289</td>\n",
       "      <td>FEMALE</td>\n",
       "      <td>craft-repair</td>\n",
       "      <td>unmarried</td>\n",
       "      <td>2015-02-22</td>\n",
       "      <td>...</td>\n",
       "      <td>Northbrook</td>\n",
       "      <td>6045 Andromedia St</td>\n",
       "      <td>1</td>\n",
       "      <td>1</td>\n",
       "      <td>87200</td>\n",
       "      <td>17440</td>\n",
       "      <td>8720</td>\n",
       "      <td>61040</td>\n",
       "      <td>Accord</td>\n",
       "      <td>2006</td>\n",
       "    </tr>\n",
       "    <tr>\n",
       "      <th>996</th>\n",
       "      <td>41</td>\n",
       "      <td>186934</td>\n",
       "      <td>2014-01-05</td>\n",
       "      <td>IL</td>\n",
       "      <td>1436.79</td>\n",
       "      <td>608177</td>\n",
       "      <td>FEMALE</td>\n",
       "      <td>prof-specialty</td>\n",
       "      <td>wife</td>\n",
       "      <td>2015-01-24</td>\n",
       "      <td>...</td>\n",
       "      <td>Northbend</td>\n",
       "      <td>3092 Texas Drive</td>\n",
       "      <td>1</td>\n",
       "      <td>3</td>\n",
       "      <td>108480</td>\n",
       "      <td>18080</td>\n",
       "      <td>18080</td>\n",
       "      <td>72320</td>\n",
       "      <td>Passat</td>\n",
       "      <td>2015</td>\n",
       "    </tr>\n",
       "    <tr>\n",
       "      <th>997</th>\n",
       "      <td>34</td>\n",
       "      <td>918516</td>\n",
       "      <td>2003-02-17</td>\n",
       "      <td>OH</td>\n",
       "      <td>1383.49</td>\n",
       "      <td>442797</td>\n",
       "      <td>FEMALE</td>\n",
       "      <td>armed-forces</td>\n",
       "      <td>other-relative</td>\n",
       "      <td>2015-01-23</td>\n",
       "      <td>...</td>\n",
       "      <td>Arlington</td>\n",
       "      <td>7629 5th St</td>\n",
       "      <td>3</td>\n",
       "      <td>3</td>\n",
       "      <td>67500</td>\n",
       "      <td>7500</td>\n",
       "      <td>7500</td>\n",
       "      <td>52500</td>\n",
       "      <td>Impreza</td>\n",
       "      <td>1996</td>\n",
       "    </tr>\n",
       "    <tr>\n",
       "      <th>998</th>\n",
       "      <td>62</td>\n",
       "      <td>533940</td>\n",
       "      <td>2011-11-18</td>\n",
       "      <td>IL</td>\n",
       "      <td>1356.92</td>\n",
       "      <td>441714</td>\n",
       "      <td>MALE</td>\n",
       "      <td>handlers-cleaners</td>\n",
       "      <td>wife</td>\n",
       "      <td>2015-02-26</td>\n",
       "      <td>...</td>\n",
       "      <td>Arlington</td>\n",
       "      <td>6128 Elm Lane</td>\n",
       "      <td>1</td>\n",
       "      <td>1</td>\n",
       "      <td>46980</td>\n",
       "      <td>5220</td>\n",
       "      <td>5220</td>\n",
       "      <td>36540</td>\n",
       "      <td>A5</td>\n",
       "      <td>1998</td>\n",
       "    </tr>\n",
       "    <tr>\n",
       "      <th>999</th>\n",
       "      <td>60</td>\n",
       "      <td>556080</td>\n",
       "      <td>1996-11-11</td>\n",
       "      <td>OH</td>\n",
       "      <td>766.19</td>\n",
       "      <td>612260</td>\n",
       "      <td>FEMALE</td>\n",
       "      <td>sales</td>\n",
       "      <td>husband</td>\n",
       "      <td>2015-02-26</td>\n",
       "      <td>...</td>\n",
       "      <td>Columbus</td>\n",
       "      <td>1416 Cherokee Ridge</td>\n",
       "      <td>1</td>\n",
       "      <td>3</td>\n",
       "      <td>5060</td>\n",
       "      <td>460</td>\n",
       "      <td>920</td>\n",
       "      <td>3680</td>\n",
       "      <td>E400</td>\n",
       "      <td>2007</td>\n",
       "    </tr>\n",
       "  </tbody>\n",
       "</table>\n",
       "<p>1000 rows × 24 columns</p>\n",
       "</div>"
      ],
      "text/plain": [
       "     Age  Policy_number Policy_bind_date Policy_state  Policy_annual_premium  \\\n",
       "0     48         521585       2014-10-17           OH                1406.91   \n",
       "1     42         342868       2006-06-27           IN                1197.22   \n",
       "2     29         687698       2000-09-06           OH                1413.14   \n",
       "3     41         227811       1990-05-25           IL                1415.74   \n",
       "4     44         367455       2014-06-06           IL                1583.91   \n",
       "..   ...            ...              ...          ...                    ...   \n",
       "995   38         941851       1991-07-16           OH                1310.80   \n",
       "996   41         186934       2014-01-05           IL                1436.79   \n",
       "997   34         918516       2003-02-17           OH                1383.49   \n",
       "998   62         533940       2011-11-18           IL                1356.92   \n",
       "999   60         556080       1996-11-11           OH                 766.19   \n",
       "\n",
       "     Insured_zip Insured_gender Insured_occupation Insured_relationship  \\\n",
       "0         466132           MALE       craft-repair              husband   \n",
       "1         468176           MALE  machine-op-inspct       other-relative   \n",
       "2         430632         FEMALE              sales            own-child   \n",
       "3         608117         FEMALE       armed-forces            unmarried   \n",
       "4         610706           MALE              sales            unmarried   \n",
       "..           ...            ...                ...                  ...   \n",
       "995       431289         FEMALE       craft-repair            unmarried   \n",
       "996       608177         FEMALE     prof-specialty                 wife   \n",
       "997       442797         FEMALE       armed-forces       other-relative   \n",
       "998       441714           MALE  handlers-cleaners                 wife   \n",
       "999       612260         FEMALE              sales              husband   \n",
       "\n",
       "    Incident_date  ... Incident_city    Incident_location  \\\n",
       "0      2015-01-25  ...      Columbus       9935 4th Drive   \n",
       "1      2015-01-21  ...     Riverwood         6608 MLK Hwy   \n",
       "2      2015-02-22  ...      Columbus    7121 Francis Lane   \n",
       "3      2015-01-10  ...     Arlington     6956 Maple Drive   \n",
       "4      2015-02-17  ...     Arlington         3041 3rd Ave   \n",
       "..            ...  ...           ...                  ...   \n",
       "995    2015-02-22  ...    Northbrook   6045 Andromedia St   \n",
       "996    2015-01-24  ...     Northbend     3092 Texas Drive   \n",
       "997    2015-01-23  ...     Arlington          7629 5th St   \n",
       "998    2015-02-26  ...     Arlington        6128 Elm Lane   \n",
       "999    2015-02-26  ...      Columbus  1416 Cherokee Ridge   \n",
       "\n",
       "    Number_of_vehicles_involved Witnesses Total_claim_amount Injury_claim  \\\n",
       "0                             1         2              71610         6510   \n",
       "1                             1         0               5070          780   \n",
       "2                             3         3              34650         7700   \n",
       "3                             1         2              63400         6340   \n",
       "4                             1         1               6500         1300   \n",
       "..                          ...       ...                ...          ...   \n",
       "995                           1         1              87200        17440   \n",
       "996                           1         3             108480        18080   \n",
       "997                           3         3              67500         7500   \n",
       "998                           1         1              46980         5220   \n",
       "999                           1         3               5060          460   \n",
       "\n",
       "     Property_claim  Vehicle_claim  Auto_model  Auto_year  \n",
       "0             13020          52080         92x       2004  \n",
       "1               780           3510        E400       2007  \n",
       "2              3850          23100         RAM       2007  \n",
       "3              6340          50720       Tahoe       2014  \n",
       "4               650           4550         RSX       2009  \n",
       "..              ...            ...         ...        ...  \n",
       "995            8720          61040      Accord       2006  \n",
       "996           18080          72320      Passat       2015  \n",
       "997            7500          52500     Impreza       1996  \n",
       "998            5220          36540          A5       1998  \n",
       "999             920           3680        E400       2007  \n",
       "\n",
       "[1000 rows x 24 columns]"
      ]
     },
     "execution_count": 22,
     "metadata": {},
     "output_type": "execute_result"
    }
   ],
   "source": [
    "df = pd.read_excel(\"D:\\Data Analyst\\Projects\\Vehicle Insurance Claim Data Analysis\\insurance_claims.xlsx\")\n",
    "df"
   ]
  },
  {
   "cell_type": "markdown",
   "id": "3bc1fd2e",
   "metadata": {},
   "source": [
    "# 1. Summary Statistics"
   ]
  },
  {
   "cell_type": "raw",
   "id": "6fe0ffc5",
   "metadata": {},
   "source": [
    "Generated summary statistics such as Mean, Median, Mode, Standard deviation and Quartiles for Age, Total claim amount, Injury claim, Property claim, Vehicle claim variables.\n",
    "To Understand central tendency and variability of the data."
   ]
  },
  {
   "cell_type": "code",
   "execution_count": 23,
   "id": "a5200439",
   "metadata": {},
   "outputs": [
    {
     "data": {
      "text/plain": [
       "count    1000.000000\n",
       "mean       38.948000\n",
       "std         9.140287\n",
       "min        19.000000\n",
       "25%        32.000000\n",
       "50%        38.000000\n",
       "75%        44.000000\n",
       "max        64.000000\n",
       "Name: Age, dtype: float64"
      ]
     },
     "execution_count": 23,
     "metadata": {},
     "output_type": "execute_result"
    }
   ],
   "source": [
    "df['Age'].describe()"
   ]
  },
  {
   "cell_type": "code",
   "execution_count": 32,
   "id": "93433a03",
   "metadata": {},
   "outputs": [
    {
     "data": {
      "text/plain": [
       "count      1000.00000\n",
       "mean      52761.94000\n",
       "std       26401.53319\n",
       "min         100.00000\n",
       "25%       41812.50000\n",
       "50%       58055.00000\n",
       "75%       70592.50000\n",
       "max      114920.00000\n",
       "Name: Total_claim_amount, dtype: float64"
      ]
     },
     "execution_count": 32,
     "metadata": {},
     "output_type": "execute_result"
    }
   ],
   "source": [
    "df['Total_claim_amount'].describe()"
   ]
  },
  {
   "cell_type": "code",
   "execution_count": 34,
   "id": "5e26e4cc",
   "metadata": {},
   "outputs": [
    {
     "data": {
      "text/plain": [
       "count     1000.000000\n",
       "mean      7433.420000\n",
       "std       4880.951853\n",
       "min          0.000000\n",
       "25%       4295.000000\n",
       "50%       6775.000000\n",
       "75%      11305.000000\n",
       "max      21450.000000\n",
       "Name: Injury_claim, dtype: float64"
      ]
     },
     "execution_count": 34,
     "metadata": {},
     "output_type": "execute_result"
    }
   ],
   "source": [
    "df['Injury_claim'].describe()"
   ]
  },
  {
   "cell_type": "code",
   "execution_count": 36,
   "id": "88a6bea8",
   "metadata": {},
   "outputs": [
    {
     "data": {
      "text/plain": [
       "count     1000.000000\n",
       "mean      7399.570000\n",
       "std       4824.726179\n",
       "min          0.000000\n",
       "25%       4445.000000\n",
       "50%       6750.000000\n",
       "75%      10885.000000\n",
       "max      23670.000000\n",
       "Name: Property_claim, dtype: float64"
      ]
     },
     "execution_count": 36,
     "metadata": {},
     "output_type": "execute_result"
    }
   ],
   "source": [
    "df['Property_claim'].describe()"
   ]
  },
  {
   "cell_type": "code",
   "execution_count": 37,
   "id": "4e862108",
   "metadata": {},
   "outputs": [
    {
     "data": {
      "text/plain": [
       "count     1000.000000\n",
       "mean     37928.950000\n",
       "std      18886.252893\n",
       "min         70.000000\n",
       "25%      30292.500000\n",
       "50%      42100.000000\n",
       "75%      50822.500000\n",
       "max      79560.000000\n",
       "Name: Vehicle_claim, dtype: float64"
      ]
     },
     "execution_count": 37,
     "metadata": {},
     "output_type": "execute_result"
    }
   ],
   "source": [
    "df['Vehicle_claim'].describe()"
   ]
  },
  {
   "cell_type": "markdown",
   "id": "e375d9bb",
   "metadata": {},
   "source": [
    "# 2. Visualizations"
   ]
  },
  {
   "cell_type": "raw",
   "id": "74efbaab",
   "metadata": {},
   "source": [
    "Created visual representations using boxplot to better understand the distribution of Age variable. \n",
    "BoxPlot : Shows measures, quartiles and outliers of a variable "
   ]
  },
  {
   "cell_type": "code",
   "execution_count": 64,
   "id": "99509945",
   "metadata": {},
   "outputs": [
    {
     "data": {
      "image/png": "[encoded data removed]",
      "text/plain": [
       "<Figure size 640x480 with 1 Axes>"
      ]
     },
     "metadata": {},
     "output_type": "display_data"
    }
   ],
   "source": [
    "box = sb.boxplot(df['Age'])\n",
    "box.set_title('Age distribution')\n",
    "box.set_ylabel('Values')\n",
    "plt.show()"
   ]
  },
  {
   "cell_type": "raw",
   "id": "88c368f3",
   "metadata": {},
   "source": [
    "Conclusion:\n",
    "\n",
    "In the Above Age distribution as we can see,\n",
    "The Minimum age value is 19 and Maximum age value is 64.\n",
    "The First quartile(Q1) indicates the point below which 25% of the Ages lower than 32.\n",
    "The Second quartile(Q2) indicates the middle point, in which 50% of the ages between 32 and 44. \n",
    "The Third quartile(Q3) indicates the point above which 75% of the ages greater than 44."
   ]
  },
  {
   "cell_type": "code",
   "execution_count": 65,
   "id": "825a94c5",
   "metadata": {},
   "outputs": [
    {
     "data": {
      "image/png": "[encoded data removed]",
      "text/plain": [
       "<Figure size 640x480 with 1 Axes>"
      ]
     },
     "metadata": {},
     "output_type": "display_data"
    }
   ],
   "source": [
    "box = sb.boxplot(df['Total_claim_amount'])\n",
    "box.set_title('Total Claim amount distribution')\n",
    "box.set_ylabel('Values')\n",
    "plt.show()"
   ]
  },
  {
   "cell_type": "raw",
   "id": "1e04c961",
   "metadata": {},
   "source": [
    "Conclusion:\n",
    "    \n",
    "In the Above Total claim amount distribution as we can see,\n",
    "The Minimum claim amount is 100 and maximum claim amount is 1,14,920.\n",
    "The First quartile indicates the point below which 25% of the claim amount lower than 41812.  \n",
    "The Second quartile indicates the middle point, in which 50% of the claim amount between 41812 and 70592.  \n",
    "The Third quartile indicates the point above which 75% of the claim amount greater than 70592.  "
   ]
  },
  {
   "cell_type": "code",
   "execution_count": 71,
   "id": "4bcfd1c0",
   "metadata": {},
   "outputs": [
    {
     "data": {
      "image/png": "[encoded data removed]",
      "text/plain": [
       "<Figure size 640x480 with 1 Axes>"
      ]
     },
     "metadata": {},
     "output_type": "display_data"
    }
   ],
   "source": [
    "box = sb.boxplot(df['Injury_claim'])\n",
    "box.set_title('Injury claim distribution')\n",
    "box.set_ylabel('values')\n",
    "plt.show()"
   ]
  },
  {
   "cell_type": "raw",
   "id": "955f9aba",
   "metadata": {},
   "source": [
    "Conclusion:\n",
    "\n",
    "In the Above Injury claim distribution as we can see,\n",
    "The Minimum Injury claim is 0 and maximum Injury claim is 21450.\n",
    "The First quartile indicates the point below which 25% of the Injury claim lower than 4295.  \n",
    "The Second quartile indicates the middle point, in which 50% of the Injury claim between 4295 and 11305.  \n",
    "The Third quartile indicates the point above which 75% of the Injury claim greater than 11305.  "
   ]
  },
  {
   "cell_type": "code",
   "execution_count": 73,
   "id": "4e1c3eba",
   "metadata": {},
   "outputs": [
    {
     "data": {
      "image/png": "[encoded data removed]",
      "text/plain": [
       "<Figure size 640x480 with 1 Axes>"
      ]
     },
     "metadata": {},
     "output_type": "display_data"
    }
   ],
   "source": [
    "box = sb.boxplot(df['Property_claim'])\n",
    "box.set_title('Property claim distribution')\n",
    "box.set_ylabel('Values')\n",
    "plt.show()"
   ]
  },
  {
   "cell_type": "raw",
   "id": "959a80c6",
   "metadata": {},
   "source": [
    "Conclusion:\n",
    "\n",
    "In the Above Property claim distribution as we can see,\n",
    "The Minimum Property claim is 0 and maximum Property claim is 23670.\n",
    "The First quartile indicates the point below which 25% of the Property claim lower than 4445.  \n",
    "The Second quartile indicates the middle point, in which 50% of the Property claim between 4445 and 10885.  \n",
    "The Third quartile indicates the point above which 75% of the Property claim greater than 10885.  "
   ]
  },
  {
   "cell_type": "code",
   "execution_count": 74,
   "id": "dd77c8c2",
   "metadata": {},
   "outputs": [
    {
     "data": {
      "image/png": "[encoded data removed]",
      "text/plain": [
       "<Figure size 640x480 with 1 Axes>"
      ]
     },
     "metadata": {},
     "output_type": "display_data"
    }
   ],
   "source": [
    "box = sb.boxplot(df['Vehicle_claim'])\n",
    "box.set_title('Vehicle claim distribution')\n",
    "box.set_ylabel('Values')\n",
    "plt.show()"
   ]
  },
  {
   "cell_type": "raw",
   "id": "fc87ed3f",
   "metadata": {},
   "source": [
    "Conclusion:\n",
    "\n",
    "In the Above Vehicle claim distribution as we can see,\n",
    "The Minimum Vehicle claim is 70 and maximum Vehicle claim is 79560.\n",
    "The First quartile indicates the point below which 25% of the Vehicle claim lower than 30292.  \n",
    "The Second quartile indicates the middle point, in which 50% of the Vehicle claim between 30292 and 50822.  \n",
    "The Third quartile indicates the point above which 75% of the Vehicle claim greater than 50822. "
   ]
  }
 ],
 "metadata": {
  "kernelspec": {
   "display_name": "Python 3 (ipykernel)",
   "language": "python",
   "name": "python3"
  },
  "language_info": {
   "codemirror_mode": {
    "name": "ipython",
    "version": 3
   },
   "file_extension": ".py",
   "mimetype": "text/x-python",
   "name": "python",
   "nbconvert_exporter": "python",
   "pygments_lexer": "ipython3",
   "version": "3.11.5"
  }
 },
 "nbformat": 4,
 "nbformat_minor": 5
}
